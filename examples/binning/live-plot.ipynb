{
 "cells": [
  {
   "cell_type": "code",
   "execution_count": null,
   "metadata": {
    "collapsed": true
   },
   "outputs": [],
   "source": [
    "import datetime\n",
    "from pandas import Timestamp\n",
    "\n",
    "from ipywidgets import interact\n",
    "\n",
    "from bokeh.models.sources import ColumnDataSource\n",
    "from bokeh.plotting import figure\n",
    "from bokeh.io import push_notebook, show, output_notebook\n",
    "\n",
    "from confluent_kafka import Consumer, KafkaError"
   ]
  },
  {
   "cell_type": "code",
   "execution_count": null,
   "metadata": {},
   "outputs": [],
   "source": [
    "output_notebook()"
   ]
  },
  {
   "cell_type": "code",
   "execution_count": null,
   "metadata": {
    "collapsed": true
   },
   "outputs": [],
   "source": [
    "consumer = Consumer({'bootstrap.servers': 'localhost:9092', 'group.id': 'test-group',\n",
    "              'default.topic.config': {'auto.offset.reset': 'earliest'}})\n",
    "\n",
    "consumer.subscribe(['prices'])"
   ]
  },
  {
   "cell_type": "code",
   "execution_count": null,
   "metadata": {},
   "outputs": [],
   "source": [
    "price_figure = figure(title='Prices and binned prices', plot_height=300, \n",
    "                      plot_width=600, y_range=(0, 140), x_axis_type='datetime')\n",
    "price_figure.xaxis.axis_label = 'Price timestamp'\n",
    "price_figure.yaxis.axis_label = 'Price'\n",
    "\n",
    "sec_colors = [['blue'], ['red']]\n",
    "price_data = ColumnDataSource(data=dict(#color=sec_colors,\n",
    "                                        xs=[[datetime.datetime(2017,1,1)], [datetime.datetime(2017,1,1)]], \n",
    "                                        ys=[[100], [100]]))\n",
    "line = price_figure.multi_line(xs=\"xs\", ys=\"ys\", source=price_data)# , line_color=\"color\"\n",
    "handle = show(price_figure, notebook_handle=True)\n",
    "\n",
    "xs = [[], []]\n",
    "ys = [[], []]\n",
    "updated_data = dict(xs=xs, ys=ys)#, color=sec_colors)\n",
    "n_show = 100\n"
   ]
  },
  {
   "cell_type": "code",
   "execution_count": null,
   "metadata": {},
   "outputs": [],
   "source": [
    "running = True\n",
    "while running:\n",
    "    msg = consumer.poll()\n",
    "    if not msg.error():\n",
    "        #print(f'Received message: {msg.value().decode(\"utf-8\")}')\n",
    "        dt, sec, prc = msg.value().decode(\"utf-8\").split(',')\n",
    "        dt = Timestamp(dt).to_pydatetime()\n",
    "        prc = float(prc)\n",
    "\n",
    "        # Assumes just two securities\n",
    "        idx = 0 if sec == 'AAA' else 1\n",
    "        xs[idx].append(dt)\n",
    "        ys[idx].append(prc)\n",
    "        \n",
    "        updated_data['xs'] = xs = [xs[0][-n_show:], xs[1][-n_show:]]\n",
    "        updated_data['ys'] = ys = [ys[0][-n_show:], ys[1][-n_show:]]\n",
    "        price_data.stream(updated_data, n_show)\n",
    "        \n",
    "        push_notebook(handle=handle)\n",
    "    elif msg.error().code() != KafkaError._PARTITION_EOF:\n",
    "        print(msg.error())\n",
    "        running = False\n",
    "        \n",
    "c.close()"
   ]
  },
  {
   "cell_type": "code",
   "execution_count": null,
   "metadata": {
    "collapsed": true
   },
   "outputs": [],
   "source": []
  }
 ],
 "metadata": {
  "kernelspec": {
   "display_name": "Python 3",
   "language": "python",
   "name": "python3"
  },
  "language_info": {
   "codemirror_mode": {
    "name": "ipython",
    "version": 3
   },
   "file_extension": ".py",
   "mimetype": "text/x-python",
   "name": "python",
   "nbconvert_exporter": "python",
   "pygments_lexer": "ipython3",
   "version": "3.6.1"
  }
 },
 "nbformat": 4,
 "nbformat_minor": 2
}
