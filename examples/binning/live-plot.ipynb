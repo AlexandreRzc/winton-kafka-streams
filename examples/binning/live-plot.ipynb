{
 "cells": [
  {
   "cell_type": "code",
   "execution_count": null,
   "metadata": {
    "collapsed": true
   },
   "outputs": [],
   "source": [
    "import datetime\n",
    "from pandas import Timestamp\n",
    "\n",
    "from ipywidgets import interact\n",
    "\n",
    "from bokeh.models.sources import ColumnDataSource\n",
    "from bokeh.plotting import figure\n",
    "from bokeh.io import push_notebook, show, output_notebook\n",
    "\n",
    "from confluent_kafka import Consumer, KafkaError"
   ]
  },
  {
   "cell_type": "code",
   "execution_count": null,
   "metadata": {},
   "outputs": [],
   "source": [
    "output_notebook()"
   ]
  },
  {
   "cell_type": "code",
   "execution_count": null,
   "metadata": {
    "collapsed": true
   },
   "outputs": [],
   "source": [
    "consumer = Consumer({'bootstrap.servers': 'localhost:9092', 'group.id': 'test-group',\n",
    "              'default.topic.config': {'auto.offset.reset': 'earliest'}})\n",
    "\n",
    "consumer.subscribe(['prices'])"
   ]
  },
  {
   "cell_type": "code",
   "execution_count": null,
   "metadata": {},
   "outputs": [],
   "source": [
    "price_figure = figure(title='Prices and binned prices', plot_height=300, \n",
    "                      plot_width=600, y_range=(0, 140), x_axis_type='datetime')\n",
    "price_figure.xaxis.axis_label = 'Price timestamp'\n",
    "price_figure.yaxis.axis_label = 'Price'\n",
    "\n",
    "price_data_A = ColumnDataSource(data=dict(x=[datetime.datetime(2017,1,1)], \n",
    "                                        y=[100]))\n",
    "price_data_B = ColumnDataSource(data=dict(x=[datetime.datetime(2017,1,1)], \n",
    "                                        y=[100]))\n",
    "line_AAA = price_figure.line(x=\"x\", y=\"y\", color=\"blue\", source=price_data_A, legend='AAA')\n",
    "line_BBB = price_figure.line(x=\"x\", y=\"y\", color=\"red\", source=price_data_B, legend='BBB')\n",
    "handle = show(price_figure, notebook_handle=True)\n",
    "\n",
    "xA, yA = [], []\n",
    "xB, yB = [], []\n",
    "updated_data_A = dict(x=xA, y=yA)\n",
    "updated_data_B = dict(x=xB, y=yB)\n",
    "\n",
    "n_show = 100\n"
   ]
  },
  {
   "cell_type": "code",
   "execution_count": null,
   "metadata": {},
   "outputs": [],
   "source": [
    "running = True\n",
    "while running:\n",
    "    msg = consumer.poll()\n",
    "    if not msg.error():\n",
    "        #print(f'Received message: {msg.value().decode(\"utf-8\")}')\n",
    "        dt, sec, prc = msg.value().decode(\"utf-8\").split(',')\n",
    "        dt = Timestamp(dt).to_pydatetime()\n",
    "        prc = float(prc)\n",
    "\n",
    "        (price_data, updated_data, xUp, yUp) = (price_data_A, updated_data_A, xA, yA) \\\n",
    "                                    if sec == 'AAA' else \\\n",
    "                                    (price_data_B, updated_data_B, xB, yB)\n",
    "        xUp.append(dt)\n",
    "        yUp.append(prc)\n",
    "        \n",
    "        updated_data['x'] = xUp = xUp[-n_show:]\n",
    "        updated_data['y'] = yUp= yUp[-n_show:]\n",
    "        price_data.stream(updated_data, n_show)\n",
    "        \n",
    "        push_notebook(handle=handle)\n",
    "    elif msg.error().code() != KafkaError._PARTITION_EOF:\n",
    "        print(msg.error())\n",
    "        running = False\n",
    "        \n",
    "c.close()"
   ]
  },
  {
   "cell_type": "code",
   "execution_count": null,
   "metadata": {
    "collapsed": true
   },
   "outputs": [],
   "source": []
  },
  {
   "cell_type": "code",
   "execution_count": null,
   "metadata": {
    "collapsed": true
   },
   "outputs": [],
   "source": []
  }
 ],
 "metadata": {
  "kernelspec": {
   "display_name": "Python 3",
   "language": "python",
   "name": "python3"
  },
  "language_info": {
   "codemirror_mode": {
    "name": "ipython",
    "version": 3
   },
   "file_extension": ".py",
   "mimetype": "text/x-python",
   "name": "python",
   "nbconvert_exporter": "python",
   "pygments_lexer": "ipython3",
   "version": "3.6.1"
  }
 },
 "nbformat": 4,
 "nbformat_minor": 2
}
